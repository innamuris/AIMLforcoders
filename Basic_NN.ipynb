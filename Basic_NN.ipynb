{
  "nbformat": 4,
  "nbformat_minor": 0,
  "metadata": {
    "colab": {
      "name": "Untitled3.ipynb",
      "provenance": [],
      "toc_visible": true,
      "authorship_tag": "ABX9TyM4elHotDQY9DGALN5UZPMa"
    },
    "kernelspec": {
      "name": "python3",
      "display_name": "Python 3"
    },
    "language_info": {
      "name": "python"
    }
  },
  "cells": [
    {
      "cell_type": "markdown",
      "metadata": {
        "id": "OcazUVyeJ56m"
      },
      "source": [
        "Chapter 2"
      ]
    },
    {
      "cell_type": "markdown",
      "metadata": {
        "id": "jGvxX6Dfml7U"
      },
      "source": [
        "Basic Neural Network"
      ]
    },
    {
      "cell_type": "code",
      "metadata": {
        "colab": {
          "base_uri": "https://localhost:8080/"
        },
        "id": "ia0xHnvIW1cd",
        "outputId": "203dd876-f4ef-4d98-d0f3-4dfa85ef68f4"
      },
      "source": [
        "#import packages\n",
        "import tensorflow as tf\n",
        "\n",
        "#load data\n",
        "data = tf.keras.datasets.fashion_mnist\n",
        "(training_images,training_labels),(test_images,test_labels)=data.load_data()\n",
        "\n",
        "#normalize the input\n",
        "training_images=training_images/255.0\n",
        "test_images=test_images/255.0\n",
        "\n"
      ],
      "execution_count": 3,
      "outputs": [
        {
          "output_type": "stream",
          "text": [
            "Downloading data from https://storage.googleapis.com/tensorflow/tf-keras-datasets/train-labels-idx1-ubyte.gz\n",
            "32768/29515 [=================================] - 0s 0us/step\n",
            "40960/29515 [=========================================] - 0s 0us/step\n",
            "Downloading data from https://storage.googleapis.com/tensorflow/tf-keras-datasets/train-images-idx3-ubyte.gz\n",
            "26427392/26421880 [==============================] - 0s 0us/step\n",
            "26435584/26421880 [==============================] - 0s 0us/step\n",
            "Downloading data from https://storage.googleapis.com/tensorflow/tf-keras-datasets/t10k-labels-idx1-ubyte.gz\n",
            "16384/5148 [===============================================================================================] - 0s 0us/step\n",
            "Downloading data from https://storage.googleapis.com/tensorflow/tf-keras-datasets/t10k-images-idx3-ubyte.gz\n",
            "4423680/4422102 [==============================] - 0s 0us/step\n",
            "4431872/4422102 [==============================] - 0s 0us/step\n"
          ],
          "name": "stdout"
        }
      ]
    },
    {
      "cell_type": "code",
      "metadata": {
        "colab": {
          "base_uri": "https://localhost:8080/"
        },
        "id": "vXzKfFRJP5r2",
        "outputId": "b1a873ae-d9eb-454f-dd98-36f51bd0f489"
      },
      "source": [
        "#define NN\n",
        "\n",
        "#note: input is a 28 X 28 array.. flatten it to a 1D array\n",
        "model = tf.keras.Sequential([\n",
        "                          tf.keras.layers.Flatten(input_shape=(28,28)),  #input layer specification\n",
        "                          tf.keras.layers.Dense(128,activation=tf.nn.relu),  #returns a value if >0\n",
        "                          tf.keras.layers.Dense(10,activation=tf.nn.softmax) #10 classes require 10 neurons in output layer\n",
        "])\n",
        "\n",
        "model.compile(optimizer='adam',\n",
        "              loss='sparse_categorical_crossentropy',\n",
        "              metrics=['accuracy'])\n",
        "\n",
        "model.fit(training_images,training_labels,epochs=5)"
      ],
      "execution_count": 6,
      "outputs": [
        {
          "output_type": "stream",
          "text": [
            "Epoch 1/5\n",
            "1875/1875 [==============================] - 5s 2ms/step - loss: 0.4961 - accuracy: 0.8248\n",
            "Epoch 2/5\n",
            "1875/1875 [==============================] - 5s 2ms/step - loss: 0.3762 - accuracy: 0.8629\n",
            "Epoch 3/5\n",
            "1875/1875 [==============================] - 5s 3ms/step - loss: 0.3362 - accuracy: 0.8765\n",
            "Epoch 4/5\n",
            "1875/1875 [==============================] - 5s 3ms/step - loss: 0.3124 - accuracy: 0.8856\n",
            "Epoch 5/5\n",
            "1875/1875 [==============================] - 5s 3ms/step - loss: 0.2948 - accuracy: 0.8913\n"
          ],
          "name": "stdout"
        },
        {
          "output_type": "execute_result",
          "data": {
            "text/plain": [
              "<keras.callbacks.History at 0x7f149ee58390>"
            ]
          },
          "metadata": {},
          "execution_count": 6
        }
      ]
    },
    {
      "cell_type": "code",
      "metadata": {
        "colab": {
          "base_uri": "https://localhost:8080/"
        },
        "id": "0a01rOI7cFOT",
        "outputId": "e9cf52b8-f7bf-47ff-9f60-2314b95aed70"
      },
      "source": [
        "model.evaluate(test_images,test_labels)"
      ],
      "execution_count": 7,
      "outputs": [
        {
          "output_type": "stream",
          "text": [
            "313/313 [==============================] - 1s 1ms/step - loss: 0.3508 - accuracy: 0.8707\n"
          ],
          "name": "stdout"
        },
        {
          "output_type": "execute_result",
          "data": {
            "text/plain": [
              "[0.3507881462574005, 0.8707000017166138]"
            ]
          },
          "metadata": {},
          "execution_count": 7
        }
      ]
    },
    {
      "cell_type": "code",
      "metadata": {
        "colab": {
          "base_uri": "https://localhost:8080/"
        },
        "id": "lcSIRCEwcQxK",
        "outputId": "a67f0fd2-b0e7-4802-8b03-1cf0db1c0b6e"
      },
      "source": [
        "#predictions\n",
        "\n",
        "classifications = model.predict(test_images)\n",
        "print(classifications[0])\n",
        "print(test_labels[0])"
      ],
      "execution_count": 8,
      "outputs": [
        {
          "output_type": "stream",
          "text": [
            "[3.3077351e-06 3.2174819e-07 2.0671354e-07 4.1923991e-07 3.2658133e-07\n",
            " 6.5132151e-03 2.9596106e-06 6.1459474e-02 9.1877764e-06 9.3201059e-01]\n",
            "9\n"
          ],
          "name": "stdout"
        }
      ]
    }
  ]
}